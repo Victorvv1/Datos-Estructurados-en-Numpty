{
  "nbformat": 4,
  "nbformat_minor": 0,
  "metadata": {
    "colab": {
      "provenance": []
    },
    "kernelspec": {
      "name": "python3",
      "display_name": "Python 3"
    },
    "language_info": {
      "name": "python"
    }
  },
  "cells": [
    {
      "cell_type": "markdown",
      "source": [
        "# Datos Estructurados en NumPy"
      ],
      "metadata": {
        "id": "Ll3Jefm2cynj"
      }
    },
    {
      "cell_type": "markdown",
      "source": [],
      "metadata": {
        "id": "MWhtWCgSdF8Y"
      }
    },
    {
      "cell_type": "code",
      "source": [
        "import numpy as np"
      ],
      "metadata": {
        "id": "UOh-HJQmdSKK"
      },
      "execution_count": null,
      "outputs": []
    },
    {
      "cell_type": "code",
      "source": [
        "name = ['Alice', 'Bob', 'Cathy', 'Doug']\n",
        "age = [25, 45, 37, 19]\n",
        "weight = [55.0, 85.5, 68.0, 61.5]"
      ],
      "metadata": {
        "id": "HLDuQ4lbdUef"
      },
      "execution_count": null,
      "outputs": []
    },
    {
      "cell_type": "code",
      "source": [
        "x = np.zeros(4, dtype=int)\n",
        "x"
      ],
      "metadata": {
        "colab": {
          "base_uri": "https://localhost:8080/"
        },
        "id": "0PhJfOyEdS8R",
        "outputId": "2a2e3a71-dd43-4b8c-e270-707492c21699"
      },
      "execution_count": null,
      "outputs": [
        {
          "output_type": "execute_result",
          "data": {
            "text/plain": [
              "array([0, 0, 0, 0])"
            ]
          },
          "metadata": {},
          "execution_count": 5
        }
      ]
    },
    {
      "cell_type": "code",
      "source": [
        "data = np.zeros(4, dtype={'names': ('name', 'age', 'weight'),\n",
        "                          'formats': ('U10', 'i4', 'f8')})\n",
        "print(data.dtype)"
      ],
      "metadata": {
        "colab": {
          "base_uri": "https://localhost:8080/"
        },
        "id": "3cV1rLY8drKh",
        "outputId": "ad85df7b-64a7-4446-9eae-5471b3e1040d"
      },
      "execution_count": null,
      "outputs": [
        {
          "output_type": "stream",
          "name": "stdout",
          "text": [
            "[('name', '<U10'), ('age', '<i4'), ('weight', '<f8')]\n"
          ]
        }
      ]
    },
    {
      "cell_type": "markdown",
      "source": [
        "| Character    | Description           | Example                           |\n",
        "| ---------    | -----------           | -------                           |\n",
        "| `'b'`        | Byte                  | `np.dtype('b')`                   |\n",
        "| `'i'`        | Signed integer        | `np.dtype('i4') == np.int32`      |\n",
        "| `'u'`        | Unsigned integer      | `np.dtype('u1') == np.uint8`      |\n",
        "| `'f'`        | Floating point        | `np.dtype('f8') == np.int64`      |\n",
        "| `'c'`        | Complex floating point| `np.dtype('c16') == np.complex128`|\n",
        "| `'S'`, `'a'` | String                | `np.dtype('S5')`                  |\n",
        "| `'U'`        | Unicode string        | `np.dtype('U') == np.str_`        |\n",
        "| `'V'`        | Raw data (void)       | `np.dtype('V') == np.void`        |"
      ],
      "metadata": {
        "id": "bzrXic8AeG5j"
      }
    },
    {
      "cell_type": "markdown",
      "source": [
        "**`'b'` - Byte**\n",
        "- Representa un entero con signo de 1 byte (8 bits)\n",
        "- Rango: -128 a 127\n",
        "- Ejemplo: `np.dtype('b')` equivale a `np.int8`\n",
        "- Uso común: Cuando necesitas almacenar valores pequeños y el espacio es crítico\n",
        "\n",
        "**`'i'` - Signed integer**\n",
        "- Representa números enteros con signo\n",
        "- El número que sigue indica los bytes (1, 2, 4, 8)\n",
        "- Ejemplo: `np.dtype('i4')` equivale a `np.int32` (4 bytes, rango -2,147,483,648 a 2,147,483,647)\n",
        "- Uso común: Para la mayoría de cálculos con números enteros que pueden ser positivos o negativos\n",
        "\n",
        "**`'u'` - Unsigned integer**\n",
        "- Representa números enteros sin signo (solo positivos y cero)\n",
        "- Ejemplo: `np.dtype('u1')` equivale a `np.uint8` (1 byte, rango 0 a 255)\n",
        "- Uso común: Valores de píxeles en imágenes, banderas binarias, cuando solo necesitas valores positivos\n",
        "\n",
        "**`'f'` - Floating point**\n",
        "- Representa números de punto flotante (decimales)\n",
        "- Ejemplo: `np.dtype('f8')` equivale a `np.float64` (no `np.int64` como indicaba el ejemplo)\n",
        "- Uso común: Cálculos científicos, valores que requieren precisión decimal\n",
        "\n",
        "**`'c'` - Complex floating point**\n",
        "- Representa números complejos (parte real e imaginaria)\n",
        "- Ejemplo: `np.dtype('c16')` equivale a `np.complex128` (16 bytes total, 8 para parte real y 8 para imaginaria)\n",
        "- Uso común: Procesamiento de señales, física cuántica, análisis de Fourier\n",
        "\n",
        "**`'S'`, `'a'` - String (bytes)**\n",
        "- Representa cadenas de caracteres de longitud fija con codificación ASCII/bytes\n",
        "- Ejemplo: `np.dtype('S5')` representa strings de hasta 5 bytes\n",
        "- Uso común: Compatibilidad con código antiguo, interacción con C, almacenamiento eficiente de texto ASCII\n",
        "\n",
        "**`'U'` - Unicode string**\n",
        "- Representa cadenas de texto Unicode\n",
        "- Ejemplo: `np.dtype('U')` equivale a `np.str_`\n",
        "- Uso común: Manejo de texto en diferentes idiomas, texto moderno en general\n",
        "\n",
        "**`'V'` - Raw data (void)**\n",
        "- Representa datos en crudo sin tipo específico\n",
        "- Ejemplo: `np.dtype('V')` equivale a `np.void`\n",
        "- Uso común: Almacenamiento de datos binarios arbitrarios, creación de tipos compuestos, interoperabilidad con memoria en C"
      ],
      "metadata": {
        "id": "7SXC9JeveKvY"
      }
    },
    {
      "cell_type": "code",
      "source": [
        "print(data)"
      ],
      "metadata": {
        "colab": {
          "base_uri": "https://localhost:8080/"
        },
        "id": "qBWpoQDGejES",
        "outputId": "346e4e76-20b7-4786-e243-52044c9e46bc"
      },
      "execution_count": null,
      "outputs": [
        {
          "output_type": "stream",
          "name": "stdout",
          "text": [
            "[('', 0, 0.) ('', 0, 0.) ('', 0, 0.) ('', 0, 0.)]\n"
          ]
        }
      ]
    },
    {
      "cell_type": "code",
      "source": [
        "data['name'] = name\n",
        "data['age'] = age\n",
        "data['weight'] = weight\n",
        "print(data)"
      ],
      "metadata": {
        "colab": {
          "base_uri": "https://localhost:8080/"
        },
        "id": "ajVNgwTMejz_",
        "outputId": "b201ba92-9f20-4c84-bf88-080d7a11cf6f"
      },
      "execution_count": null,
      "outputs": [
        {
          "output_type": "stream",
          "name": "stdout",
          "text": [
            "[('Alice', 25, 55. ) ('Bob', 45, 85.5) ('Cathy', 37, 68. )\n",
            " ('Doug', 19, 61.5)]\n"
          ]
        }
      ]
    },
    {
      "cell_type": "code",
      "source": [
        "data['name']"
      ],
      "metadata": {
        "colab": {
          "base_uri": "https://localhost:8080/"
        },
        "id": "tgtFb0dKetne",
        "outputId": "e3d84574-f7cf-41d8-bbf6-a0cdd21c249c"
      },
      "execution_count": null,
      "outputs": [
        {
          "output_type": "execute_result",
          "data": {
            "text/plain": [
              "array(['Alice', 'Bob', 'Cathy', 'Doug'], dtype='<U10')"
            ]
          },
          "metadata": {},
          "execution_count": 10
        }
      ]
    },
    {
      "cell_type": "code",
      "source": [
        "data[0]"
      ],
      "metadata": {
        "colab": {
          "base_uri": "https://localhost:8080/"
        },
        "id": "oU0zhdpceyfo",
        "outputId": "43bf83a0-66c5-4717-d30e-bc155209b1d5"
      },
      "execution_count": null,
      "outputs": [
        {
          "output_type": "execute_result",
          "data": {
            "text/plain": [
              "np.void(('Alice', 25, 55.0), dtype=[('name', '<U10'), ('age', '<i4'), ('weight', '<f8')])"
            ]
          },
          "metadata": {},
          "execution_count": 11
        }
      ]
    },
    {
      "cell_type": "code",
      "source": [
        "data[-1]['name']"
      ],
      "metadata": {
        "colab": {
          "base_uri": "https://localhost:8080/",
          "height": 34
        },
        "id": "Ap4z5SWCe2_s",
        "outputId": "0884c42a-dbb5-4a12-c217-5e1f5e43dcc4"
      },
      "execution_count": null,
      "outputs": [
        {
          "output_type": "execute_result",
          "data": {
            "text/plain": [
              "np.str_('Doug')"
            ],
            "application/vnd.google.colaboratory.intrinsic+json": {
              "type": "string"
            }
          },
          "metadata": {},
          "execution_count": 12
        }
      ]
    },
    {
      "cell_type": "code",
      "source": [
        "# nombres de perosnas menores de 30 años\n",
        "data[data['age'] < 30]['name']"
      ],
      "metadata": {
        "colab": {
          "base_uri": "https://localhost:8080/"
        },
        "id": "7W9FSjC3e5tM",
        "outputId": "1e56358f-a6cc-45c5-afd3-d5f7e4fd05a6"
      },
      "execution_count": null,
      "outputs": [
        {
          "output_type": "execute_result",
          "data": {
            "text/plain": [
              "array(['Alice', 'Doug'], dtype='<U10')"
            ]
          },
          "metadata": {},
          "execution_count": 13
        }
      ]
    },
    {
      "cell_type": "markdown",
      "source": [
        "## Explorando la creación de Arrays estructurados"
      ],
      "metadata": {
        "id": "vtOYzy3IfIkP"
      }
    },
    {
      "cell_type": "code",
      "source": [
        "np.dtype({'names': ('name', 'age', 'weight'),\n",
        "           'formats':('U10', 'i4', 'f8')})"
      ],
      "metadata": {
        "colab": {
          "base_uri": "https://localhost:8080/"
        },
        "id": "btQ2WRKbfDvX",
        "outputId": "c56db4cd-923a-4c62-d013-06f8347516c2"
      },
      "execution_count": null,
      "outputs": [
        {
          "output_type": "execute_result",
          "data": {
            "text/plain": [
              "dtype([('name', '<U10'), ('age', '<i4'), ('weight', '<f8')])"
            ]
          },
          "metadata": {},
          "execution_count": 14
        }
      ]
    },
    {
      "cell_type": "code",
      "source": [
        "np.dtype({'names': ('name', 'age', 'weight'),\n",
        "           'formats':((np.str_, 10), int, np.float32)})"
      ],
      "metadata": {
        "colab": {
          "base_uri": "https://localhost:8080/"
        },
        "id": "rkBjTNiWe0NI",
        "outputId": "dd3ad293-e8dd-445f-e570-d528aa694983"
      },
      "execution_count": null,
      "outputs": [
        {
          "output_type": "execute_result",
          "data": {
            "text/plain": [
              "dtype([('name', '<U10'), ('age', '<i8'), ('weight', '<f4')])"
            ]
          },
          "metadata": {},
          "execution_count": 16
        }
      ]
    },
    {
      "cell_type": "code",
      "source": [
        "np.dtype('S10,i4,f8')"
      ],
      "metadata": {
        "colab": {
          "base_uri": "https://localhost:8080/"
        },
        "id": "jm-oZ_kRfmIt",
        "outputId": "a8c4d8ac-9a41-46d9-8ad4-ba3afc62d341"
      },
      "execution_count": null,
      "outputs": [
        {
          "output_type": "execute_result",
          "data": {
            "text/plain": [
              "dtype([('f0', 'S10'), ('f1', '<i4'), ('f2', '<f8')])"
            ]
          },
          "metadata": {},
          "execution_count": 17
        }
      ]
    },
    {
      "cell_type": "code",
      "source": [
        "tp = np.dtype([('id', 'i8'), ('mat', 'f8', (3, 3))])\n",
        "X = np.zeros(1, dtype=tp)\n",
        "print(X[0])"
      ],
      "metadata": {
        "colab": {
          "base_uri": "https://localhost:8080/"
        },
        "id": "1BR9qKtgftts",
        "outputId": "4124cdfd-5088-47e2-864a-5610bd069e84"
      },
      "execution_count": null,
      "outputs": [
        {
          "output_type": "stream",
          "name": "stdout",
          "text": [
            "(0, [[0.0, 0.0, 0.0], [0.0, 0.0, 0.0], [0.0, 0.0, 0.0]])\n"
          ]
        }
      ]
    },
    {
      "cell_type": "code",
      "source": [
        "print(X['mat'][0])"
      ],
      "metadata": {
        "colab": {
          "base_uri": "https://localhost:8080/"
        },
        "id": "U3QyLTbHgOrG",
        "outputId": "f66d270c-1165-4b32-d951-0762dee6a497"
      },
      "execution_count": null,
      "outputs": [
        {
          "output_type": "stream",
          "name": "stdout",
          "text": [
            "[[0. 0. 0.]\n",
            " [0. 0. 0.]\n",
            " [0. 0. 0.]]\n"
          ]
        }
      ]
    },
    {
      "cell_type": "markdown",
      "source": [
        "### Ventajas de estos tipos compuestos\n",
        "\n",
        "#### 1. Mapeo directo a estructuras C\n",
        "Estos tipos coinciden directamente con estructuras en C, lo que facilita la interoperabilidad con código en C/C++/Fortran. Esto es crucial cuando:\n",
        "- Trabajas con bibliotecas heredadas\n",
        "- Necesitas intercambiar datos con código de bajo nivel\n",
        "- Quieres optimizar el rendimiento\n",
        "\n",
        "#### 2. Organización de datos relacionados\n",
        "Mantiene los datos relacionados juntos en una estructura coherente, similar a como lo harías con clases en programación orientada a objetos.\n",
        "\n",
        "#### 3. Eficiencia en memoria\n",
        "A diferencia de los diccionarios de Python, estos datos se almacenan de forma contigua en memoria, lo que resulta en:\n",
        "- Acceso más rápido\n",
        "- Menor uso de memoria\n",
        "- Mejores características de caché\n",
        "\n",
        "#### 4. Flexibilidad con operaciones vectorizadas\n",
        "Puedes aplicar operaciones a campos específicos manteniendo la estructura general:\n",
        "```python\n",
        "X['id'] += 10  # Incrementa todos los IDs en 10\n",
        "X['mat'] *= 2  # Multiplica todas las matrices por 2\n",
        "```"
      ],
      "metadata": {
        "id": "GErMTEmLgcPt"
      }
    },
    {
      "cell_type": "code",
      "source": [
        "data['age']"
      ],
      "metadata": {
        "colab": {
          "base_uri": "https://localhost:8080/"
        },
        "id": "L_CN9ldugWyS",
        "outputId": "91bbb23b-817f-4e9a-a4d0-5956bbb38a45"
      },
      "execution_count": null,
      "outputs": [
        {
          "output_type": "execute_result",
          "data": {
            "text/plain": [
              "array([25, 45, 37, 19], dtype=int32)"
            ]
          },
          "metadata": {},
          "execution_count": 21
        }
      ]
    },
    {
      "cell_type": "code",
      "source": [
        "data_rec = data.view(np.recarray) # Crea una nueva vista como un objeto de la clase np.recarray\n",
        "# No copia los datos en memoria, crea una nueva referencia con un comportamiento distinto\n",
        "data_rec.age"
      ],
      "metadata": {
        "colab": {
          "base_uri": "https://localhost:8080/"
        },
        "id": "uXdqu7XggyO6",
        "outputId": "f85d40b6-ff28-4cb9-896e-bd56210e8542"
      },
      "execution_count": null,
      "outputs": [
        {
          "output_type": "execute_result",
          "data": {
            "text/plain": [
              "array([25, 45, 37, 19], dtype=int32)"
            ]
          },
          "metadata": {},
          "execution_count": 23
        }
      ]
    },
    {
      "cell_type": "code",
      "source": [
        "%timeit data['age']\n",
        "%timeit data_rec['age']\n",
        "%timeit data_rec.age"
      ],
      "metadata": {
        "colab": {
          "base_uri": "https://localhost:8080/"
        },
        "id": "kzjD_GW5g625",
        "outputId": "f31a5c72-87bf-449c-a943-4d1cc0097be1"
      },
      "execution_count": null,
      "outputs": [
        {
          "output_type": "stream",
          "name": "stdout",
          "text": [
            "280 ns ± 125 ns per loop (mean ± std. dev. of 7 runs, 1000000 loops each)\n",
            "1.74 µs ± 370 ns per loop (mean ± std. dev. of 7 runs, 1000000 loops each)\n",
            "2.97 µs ± 67.6 ns per loop (mean ± std. dev. of 7 runs, 100000 loops each)\n"
          ]
        }
      ]
    },
    {
      "cell_type": "code",
      "source": [],
      "metadata": {
        "id": "MXgxQ32Mg5-9"
      },
      "execution_count": null,
      "outputs": []
    },
    {
      "cell_type": "code",
      "source": [],
      "metadata": {
        "id": "zIPkHOomgVAt"
      },
      "execution_count": null,
      "outputs": []
    },
    {
      "cell_type": "code",
      "source": [],
      "metadata": {
        "id": "txyqEyjKfkuH"
      },
      "execution_count": null,
      "outputs": []
    }
  ]
}